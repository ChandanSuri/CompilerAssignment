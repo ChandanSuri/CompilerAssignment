{
 "cells": [
  {
   "cell_type": "code",
   "execution_count": 12,
   "metadata": {
    "collapsed": true
   },
   "outputs": [],
   "source": [
    "#to form Stack Class\n",
    "class StackClass:\n",
    "\n",
    "    def __init__(self, itemlist=[]):\n",
    "        self.items = itemlist\n",
    "\n",
    "    def isEmpty(self):\n",
    "        if self.items == []:\n",
    "            return True\n",
    "        else:\n",
    "            return False\n",
    "\n",
    "    def peek(self):\n",
    "        return self.items[-1:][0]\n",
    "\n",
    "    def pop(self):\n",
    "        return self.items.pop()\n",
    "\n",
    "    def push(self, item):\n",
    "        self.items.append(item)\n",
    "        return 0\n"
   ]
  },
  {
   "cell_type": "code",
   "execution_count": 13,
   "metadata": {
    "collapsed": true
   },
   "outputs": [],
   "source": [
    "# Infix to postfix Conversion of the expression given\n",
    "def infixtopostfix(infixexpr):\n",
    "\n",
    "    s=StackClass()\n",
    "    outlst=[]\n",
    "    prec={}\n",
    "    # this is the precedence order\n",
    "    prec['*']=3\n",
    "    prec['|']=2\n",
    "    prec['.']=1\n",
    "    prec['(']=1\n",
    "    oplst=['*','|','.']\n",
    "\n",
    "    tokenlst=infixexpr.split()\n",
    "    for token in tokenlst:\n",
    "        if token in 'ABCDEFGHIJKLMNOPQRSTUVWXYZ' or token in '0123456789':\n",
    "            outlst.append(token)\n",
    "\n",
    "        elif token == '(':\n",
    "            s.push(token)\n",
    "\n",
    "        elif token == ')':\n",
    "            topToken=s.pop()\n",
    "            while topToken != '(':\n",
    "                outlst.append(topToken)\n",
    "                topToken=s.pop()\n",
    "        else:\n",
    "            while (not s.isEmpty()) and (prec[s.peek()] >= prec[token]):\n",
    "                #print token\n",
    "                outlst.append(s.pop())\n",
    "                #print outlst\n",
    "\n",
    "            s.push(token)\n",
    "            print (s.peek())\n",
    "\n",
    "    while not s.isEmpty():\n",
    "        opToken=s.pop()\n",
    "        outlst.append(opToken)\n",
    "        #print outlst\n",
    "    return outlst\n",
    "    #return \" \".join(outlst)"
   ]
  },
  {
   "cell_type": "code",
   "execution_count": 14,
   "metadata": {},
   "outputs": [
    {
     "name": "stdout",
     "output_type": "stream",
     "text": [
      "|\n"
     ]
    }
   ],
   "source": [
    "# extract the keys from the expression as well as the operators\n",
    "import re\n",
    "postfix = infixtopostfix(\"( A | B )\")\n",
    "regex=''.join(postfix)\n",
    "# | is for OR, * for Kleene Closure, . is for concatenation\n",
    "keys=list(set(re.sub('[^A-Za-z0-9]+', '', regex)+'e'))\n",
    "# e stands for epsilon"
   ]
  },
  {
   "cell_type": "code",
   "execution_count": 15,
   "metadata": {},
   "outputs": [
    {
     "name": "stdout",
     "output_type": "stream",
     "text": [
      "['e', 'A', 'B']\n",
      "3\n",
      "['A', 'B', '|']\n"
     ]
    }
   ],
   "source": [
    "print(keys)\n",
    "print(len(keys))\n",
    "print(postfix)"
   ]
  },
  {
   "cell_type": "code",
   "execution_count": 16,
   "metadata": {},
   "outputs": [
    {
     "name": "stdout",
     "output_type": "stream",
     "text": [
      "['e', 'A', 'B']\n",
      "4\n",
      "5\n",
      "[{'A': 1}, {'e': 5}, {'B': 3}, {'e': 5}, {'e': [0, 2]}, {}]\n"
     ]
    }
   ],
   "source": [
    "# Regex to NFA\n",
    "s=[];stack=[];start=0;end=1\n",
    "\n",
    "counter=-1;c1=0;c2=0\n",
    "\n",
    "for i in regex:\n",
    "    if i in keys:\n",
    "        counter=counter+1;\n",
    "        c1=counter;\n",
    "        counter=counter+1;\n",
    "        c2=counter;\n",
    "        s.append({});\n",
    "        s.append({})\n",
    "        stack.append([c1,c2])\n",
    "        \n",
    "        s[c1][i]=c2\n",
    "    elif i=='*':\n",
    "        r1,r2=stack.pop()\n",
    "        counter=counter+1;\n",
    "        c1=counter;\n",
    "        counter=counter+1;\n",
    "        c2=counter;\n",
    "        s.append({});\n",
    "        s.append({})\n",
    "        stack.append([c1,c2])\n",
    "        s[r2]['e']=[r1,c2];s[c1]['e']=[r1,c2]\n",
    "        if start==r1:\n",
    "            start=c1 \n",
    "        if end==r2:\n",
    "            end=c2 \n",
    "    elif i=='.':\n",
    "        r11,r12=stack.pop()\n",
    "        r21,r22=stack.pop()\n",
    "        r12 = r11\n",
    "        r11 = r22\n",
    "        stack.append([r21,r12])\n",
    "        elem = s[r12]\n",
    "        del s[r12]\n",
    "        for key in elem.keys():\n",
    "            s[r11][key] = elem.get(key)-1\n",
    "        counter = counter - 1\n",
    "        if start==r11:\n",
    "            start=r21 \n",
    "        if end==r22:\n",
    "            end=r12 \n",
    "    else:\n",
    "        counter=counter+1;\n",
    "        c1=counter;\n",
    "        counter=counter+1;\n",
    "        c2=counter;\n",
    "        s.append({});\n",
    "        s.append({})\n",
    "        r11,r12=stack.pop()\n",
    "        r21,r22=stack.pop()\n",
    "        stack.append([c1,c2])\n",
    "        s[c1]['e']=[r21,r11]; s[r12]['e']=c2; s[r22]['e']=c2\n",
    "        if start==r11 or start==r21:\n",
    "            start=c1 \n",
    "        if end==r22 or end==r12:\n",
    "            end=c2\n",
    "\n",
    "print(keys)\n",
    "print(start)\n",
    "print(end)\n",
    "print(s)"
   ]
  },
  {
   "cell_type": "code",
   "execution_count": 17,
   "metadata": {},
   "outputs": [
    {
     "name": "stdout",
     "output_type": "stream",
     "text": [
      "        e   A   B\n",
      "0      -1   1  -1\n",
      "1       5  -1  -1\n",
      "2      -1  -1   3\n",
      "3       5  -1  -1\n",
      "4  [0, 2]  -1  -1\n",
      "5      -1  -1  -1\n"
     ]
    }
   ],
   "source": [
    "# Convert the above s list into a matrix\n",
    "import pandas as pd\n",
    "import numpy as np\n",
    "\n",
    "arr_mat = np.full((end + 1, len(keys)), [-1])\n",
    "df_trans = pd.DataFrame(arr_mat, columns = keys, index = range(0, end+1), dtype = 'object')\n",
    "#print(df_trans)\n",
    "i = 0\n",
    "for elem in s:\n",
    "    for key, value in elem.items():\n",
    "        #print(key, value)\n",
    "        df_trans.set_value(i, key, value)\n",
    "    i = i+1\n",
    "print(df_trans)"
   ]
  },
  {
   "cell_type": "code",
   "execution_count": 18,
   "metadata": {},
   "outputs": [
    {
     "name": "stdout",
     "output_type": "stream",
     "text": [
      "[4, 5, 0, 2]\n"
     ]
    },
    {
     "data": {
      "text/plain": [
       "[4, 5, 0, 2]"
      ]
     },
     "execution_count": 18,
     "metadata": {},
     "output_type": "execute_result"
    }
   ],
   "source": [
    "#Convert NFA to DFA, get all the e-closures\n",
    "def get_e_closure(state):\n",
    "    stack_states = StackClass(list(state))\n",
    "    e_closure = state\n",
    "    #print(e_closure)\n",
    "    while not(stack_states.isEmpty()):\n",
    "        top_ele = stack_states.pop()\n",
    "        e_states = df_trans.get_value(top_ele, 'e')\n",
    "        #print(isinstance(e_states, list))\n",
    "        if e_states != -1 and isinstance(e_states, list):\n",
    "            for e_state in e_states:\n",
    "                #print(e_state)\n",
    "                if e_state not in e_closure:\n",
    "                    e_closure.append(e_state)\n",
    "                    stack_states.push(e_state)\n",
    "        elif e_states!=-1:\n",
    "            if e_states not in e_closure:\n",
    "                e_closure.append(e_states)\n",
    "                stack_states.push(e_states)\n",
    "    print(e_closure)\n",
    "    return e_closure\n",
    "get_e_closure([4, 5])"
   ]
  },
  {
   "cell_type": "code",
   "execution_count": 19,
   "metadata": {},
   "outputs": [
    {
     "name": "stdout",
     "output_type": "stream",
     "text": [
      "[4, 0, 2]\n",
      "[[4, 0, 2]]\n",
      "['A', 'B']\n",
      "   A  B\n",
      "0 -1 -1\n"
     ]
    }
   ],
   "source": [
    "#Construct DFA from NFA, Procedure\n",
    "state0 = get_e_closure(list(map(int,str(start))))\n",
    "unmarked_states = []\n",
    "all_dfa_states = []\n",
    "all_dfa_states.append(state0)\n",
    "unmarked_states.append(state0)\n",
    "print(unmarked_states)\n",
    "keys_dfa=list(set(re.sub('[^A-Za-z0-9]+', '', regex)))\n",
    "print(keys_dfa)\n",
    "arr_mat = np.full((1, len(keys_dfa)), [-1])\n",
    "DFA_trans = pd.DataFrame(arr_mat, columns = keys_dfa) \n",
    "print(DFA_trans)"
   ]
  },
  {
   "cell_type": "code",
   "execution_count": 20,
   "metadata": {},
   "outputs": [
    {
     "name": "stdout",
     "output_type": "stream",
     "text": [
      "[1, 5]\n",
      "[3, 5]\n",
      "[]\n",
      "[]\n",
      "[]\n",
      "[]\n",
      "[]\n",
      "[]\n",
      "   A  B\n",
      "0  1  2\n",
      "1  3  3\n",
      "2  3  3\n",
      "3  3  3\n"
     ]
    }
   ],
   "source": [
    "index = -1\n",
    "while unmarked_states:\n",
    "    index = index + 1\n",
    "    s1 = unmarked_states.pop(0)\n",
    "    for key in keys_dfa:\n",
    "        inp_for_closure = []\n",
    "        for state in s1:\n",
    "            val_df = df_trans.get_value(state, key)\n",
    "            if val_df!=-1:\n",
    "                inp_for_closure.append(val_df)\n",
    "        #print(inp_for_closure)\n",
    "        s2 = get_e_closure(inp_for_closure)\n",
    "        if s2 not in all_dfa_states:\n",
    "            all_dfa_states.append(s2)\n",
    "            unmarked_states.append(s2)\n",
    "            DFA_trans = DFA_trans.append(pd.DataFrame(arr_mat, columns = keys_dfa), ignore_index = True)\n",
    "        DFA_trans.set_value(index, key, all_dfa_states.index(s2))\n",
    "print(DFA_trans)"
   ]
  },
  {
   "cell_type": "code",
   "execution_count": null,
   "metadata": {
    "collapsed": true
   },
   "outputs": [],
   "source": [
    "-----------------END-------------------"
   ]
  }
 ],
 "metadata": {
  "kernelspec": {
   "display_name": "Python [default]",
   "language": "python",
   "name": "python3"
  },
  "language_info": {
   "codemirror_mode": {
    "name": "ipython",
    "version": 3
   },
   "file_extension": ".py",
   "mimetype": "text/x-python",
   "name": "python",
   "nbconvert_exporter": "python",
   "pygments_lexer": "ipython3",
   "version": "3.6.2"
  }
 },
 "nbformat": 4,
 "nbformat_minor": 2
}
